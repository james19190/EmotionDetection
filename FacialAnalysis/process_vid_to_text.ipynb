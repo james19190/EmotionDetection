{
 "cells": [
  {
   "cell_type": "code",
   "execution_count": 26,
   "metadata": {},
   "outputs": [],
   "source": [
    "import cv2\n",
    "import os\n",
    "\n",
    "# Specify the path to the video file\n",
    "video_path = 'videos/sadvid.mp4'\n",
    "\n",
    "# Specify the folder where you want to save the images\n",
    "output_folder = 'vid_to_img/sad'\n",
    "\n",
    "# Create the output folder if it doesn't exist\n",
    "os.makedirs(output_folder, exist_ok=True)\n",
    "\n",
    "vidcap = cv2.VideoCapture(video_path)\n",
    "\n",
    "def getFrame(sec):\n",
    "    vidcap.set(cv2.CAP_PROP_POS_MSEC, sec * 1000)\n",
    "    hasFrames, image = vidcap.read()\n",
    "    if hasFrames:\n",
    "        # Save frame as JPG file in the specified folder\n",
    "        image_filename = os.path.join(output_folder, \"image\" + str(count) + \".jpg\")\n",
    "        cv2.imwrite(image_filename, image)\n",
    "    return hasFrames\n",
    "\n",
    "sec = 0\n",
    "frameRate = 0.01  # It will capture an image every 0.5 seconds\n",
    "count = 1\n",
    "success = getFrame(sec)\n",
    "\n",
    "while success:\n",
    "    count = count + 1\n",
    "    sec = sec + frameRate\n",
    "    sec = round(sec, 2)\n",
    "    success = getFrame(sec)\n"
   ]
  }
 ],
 "metadata": {
  "kernelspec": {
   "display_name": "Python 3",
   "language": "python",
   "name": "python3"
  },
  "language_info": {
   "codemirror_mode": {
    "name": "ipython",
    "version": 3
   },
   "file_extension": ".py",
   "mimetype": "text/x-python",
   "name": "python",
   "nbconvert_exporter": "python",
   "pygments_lexer": "ipython3",
   "version": "3.11.4"
  }
 },
 "nbformat": 4,
 "nbformat_minor": 2
}
